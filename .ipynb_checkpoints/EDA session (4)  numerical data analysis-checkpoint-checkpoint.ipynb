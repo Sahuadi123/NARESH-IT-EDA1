{
 "cells": [
  {
   "cell_type": "code",
   "execution_count": null,
   "id": "eb0f83cb-3017-4726-a28b-e985a244bb28",
   "metadata": {},
   "outputs": [],
   "source": [
    "hi date modified "
   ]
  }
 ],
 "metadata": {
  "kernelspec": {
   "display_name": "Python 3 (ipykernel)",
   "language": "python",
   "name": "python3"
  },
  "language_info": {
   "codemirror_mode": {
    "name": "ipython",
    "version": 3
   },
   "file_extension": ".py",
   "mimetype": "text/x-python",
   "name": "python",
   "nbconvert_exporter": "python",
   "pygments_lexer": "ipython3",
   "version": "3.11.7"
  }
 },
 "nbformat": 4,
 "nbformat_minor": 5
}
